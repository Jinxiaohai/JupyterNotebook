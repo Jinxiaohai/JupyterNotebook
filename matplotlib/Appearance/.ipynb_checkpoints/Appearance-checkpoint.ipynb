{
 "cells": [
  {
   "cell_type": "markdown",
   "metadata": {},
   "source": [
    "## matplotlib.axes.Axes.aixs\n",
    "___\n",
    "* Axes.axis(*v, **kwargs)  \n",
    "Set axis properities\n",
    "\n",
    "[参看链接](http://matplotlib.org/api/_as_gen/matplotlib.axes.Axes.axis.html#matplotlib.axes.Axes.axis)"
   ]
  },
  {
   "cell_type": "markdown",
   "metadata": {},
   "source": [
    "## matplotlib.axes.Axes.set_axis_off\n",
    "___\n",
    "*  Axes.set_axis_off()   \n",
    "关掉坐标轴。"
   ]
  },
  {
   "cell_type": "markdown",
   "metadata": {},
   "source": [
    "## matplotlib.axes.Axes.set_axis_on\n",
    "___\n",
    "*  Axes.set_axis_on()   \n",
    "打开坐标轴。"
   ]
  },
  {
   "cell_type": "markdown",
   "metadata": {},
   "source": [
    "## matplotlib.axes.Axes.set_frame_on\n",
    "___\n",
    "* Axes.set_frame_on(b)   \n",
    "Set whether the axes rectangle patch is drawn.   \n",
    "接受的参数为[true, false]"
   ]
  },
  {
   "cell_type": "markdown",
   "metadata": {},
   "source": [
    "## matplotlib.axes.Axes.get_frame_on\n",
    "___\n",
    "* Axes.get_frame_on()   \n",
    "Get whether the axes rectangle patch is drawn"
   ]
  }
 ],
 "metadata": {
  "kernelspec": {
   "display_name": "Python 3",
   "language": "python",
   "name": "python3"
  },
  "language_info": {
   "codemirror_mode": {
    "name": "ipython",
    "version": 3
   },
   "file_extension": ".py",
   "mimetype": "text/x-python",
   "name": "python",
   "nbconvert_exporter": "python",
   "pygments_lexer": "ipython3",
   "version": "3.6.1"
  }
 },
 "nbformat": 4,
 "nbformat_minor": 2
}
