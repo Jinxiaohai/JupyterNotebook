{
 "cells": [
  {
   "cell_type": "markdown",
   "metadata": {},
   "source": [
    "## matplotlib.axes.Axes.scatter\n",
    "___\n",
    "* Axes.scatter(x, y, s=None, c=None, marker=None, cmap=None, norm=None, vmin=None, vmax=None, alpha=None, linewidths=None, verts=None, edgecolors=None, **kwargs)\n",
    "> Make a scatter plot of x vs y  \n",
    "marker size is scaled by s and marker color is mapped to c.\n",
    "\n",
    "\n",
    "Parameters | Description\n",
    "-----------|------------\n",
    "x, y     | rray_like, shape (n, )\n",
    "s  | scalar or array_like, shape (n, ), optional\n",
    "c | color, sequence, or sequence of color, optional, default: ‘b’\n",
    "marker |  MarkerStyle\n",
    "cmap |  Colormap\n",
    "norm | A Normalize instance is used to scale luminance data to 0, 1. norm is only used if c is an array of floats.\n",
    "vmin, vmax | vmin and vmax are used in conjunction with norm to normalize luminance data. If either are None, the min and max of the color array is used. Note if you pass a norm instance, your settings for vmin and vmax will be ignored.\n",
    "alpha | The alpha blending value, between 0 (transparent) and 1 (opaque)\n",
    "linewidths | scalar or array_like, optional, default: None\n",
    "verts | sequence of (x, y), optional, If marker is None, these vertices will be used to construct the marker. The center of the marker is located at (0,0) in normalized units. The overall marker is rescaled by s.\n",
    "edgecolors | color or sequence of color, optional, default: None\n",
    "return | PathCollection\n",
    "\n"
   ]
  }
 ],
 "metadata": {
  "kernelspec": {
   "display_name": "Python 3",
   "language": "python",
   "name": "python3"
  },
  "language_info": {
   "codemirror_mode": {
    "name": "ipython",
    "version": 3
   },
   "file_extension": ".py",
   "mimetype": "text/x-python",
   "name": "python",
   "nbconvert_exporter": "python",
   "pygments_lexer": "ipython3",
   "version": "3.6.1"
  }
 },
 "nbformat": 4,
 "nbformat_minor": 2
}
