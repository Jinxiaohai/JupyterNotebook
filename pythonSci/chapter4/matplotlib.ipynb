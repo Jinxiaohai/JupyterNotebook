{
 "cells": [
  {
   "cell_type": "markdown",
   "metadata": {},
   "source": [
    "## matplotlib.axes.Axes.plot\n",
    "Axes.plot(*args, **kwargs)\n",
    "> Plot lines and/or markers to the Axes. args is a variable length argument, allowing for   multiple x, y pairs with an optional format string.\n",
    "\n",
    "\n",
    "* The kwargs are Line2D properties. \n",
    "____\n",
    "\n",
    "|Proterty|Description|\n",
    "|:----:|:----:|\n",
    "| agg_filter | unknown | \n",
    "| alpha | 透明度，参数的范围为(0, 1) | \n",
    "| animated | [True,False] | \n",
    "| antialiased | [True,False] | \n",
    "| axes | an Axes instance | \n",
    "| clip_box | a matplotlib.transform.Bbox instance | \n",
    "| clip_on | [True,False] | \n",
    "| clip_path | [(Path,Transform), Patch, None] | \n",
    "| color | any matplotlib color | \n",
    "| contains | a callable function | \n",
    "| dash_capstyle | ['butt', 'round', 'projecting'] | \n",
    "| dash_joinstyle | ['miter', 'round', 'projecting'] | \n",
    "| dashes | sequence of on/off ink in points | \n",
    "| drawstyle | ['default', 'steps', 'steps-pre', 'steps-mid', 'steps-post'] | \n",
    "| figure | a matplotlib.figure.Figure instance | \n",
    "| fillstyle | ['full', 'left', 'right', 'bottom', 'top', 'none'] | \n",
    "| gid | an id string |\n",
    "| label | string or anything printable with '%s' conversion | \n",
    "| linestyle | ['-', '--', '-.', ':', 'None', ' ', ''] | \n",
    "| markeredgecolor | any matplotlib color |\n",
    "| markerfacecolor | any matplotlib color |\n",
    "| markerfacecoloralt | any matplotlib color |\n",
    "| markersize | float |\n",
    "| markevery | ['None', 'int', ...] |"
   ]
  }
 ],
 "metadata": {
  "kernelspec": {
   "display_name": "Python 2",
   "language": "python",
   "name": "python2"
  },
  "language_info": {
   "codemirror_mode": {
    "name": "ipython",
    "version": 2
   },
   "file_extension": ".py",
   "mimetype": "text/x-python",
   "name": "python",
   "nbconvert_exporter": "python",
   "pygments_lexer": "ipython2",
   "version": "2.7.5"
  }
 },
 "nbformat": 4,
 "nbformat_minor": 2
}
