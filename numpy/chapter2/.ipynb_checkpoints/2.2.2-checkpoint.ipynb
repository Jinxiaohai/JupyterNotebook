{
 "cells": [
  {
   "cell_type": "code",
   "execution_count": 3,
   "metadata": {
    "collapsed": true
   },
   "outputs": [],
   "source": [
    "import numpy as np\n",
    "a = np.array([1, 2, 3])\n",
    "b = np.array([3, 2, 1])\n"
   ]
  },
  {
   "cell_type": "code",
   "execution_count": 4,
   "metadata": {},
   "outputs": [
    {
     "name": "stdout",
     "output_type": "stream",
     "text": [
      "[False  True False]\n"
     ]
    }
   ],
   "source": [
    "c = np.equal(a, b)\n",
    "print(c)"
   ]
  },
  {
   "cell_type": "code",
   "execution_count": 5,
   "metadata": {},
   "outputs": [
    {
     "data": {
      "text/plain": [
       "array([ True, False,  True], dtype=bool)"
      ]
     },
     "execution_count": 5,
     "metadata": {},
     "output_type": "execute_result"
    }
   ],
   "source": [
    "d = np.not_equal(a, b)\n",
    "d"
   ]
  },
  {
   "cell_type": "code",
   "execution_count": 6,
   "metadata": {},
   "outputs": [
    {
     "data": {
      "text/plain": [
       "array([ True, False, False], dtype=bool)"
      ]
     },
     "execution_count": 6,
     "metadata": {},
     "output_type": "execute_result"
    }
   ],
   "source": [
    "e = np.less(a, b)\n",
    "e"
   ]
  },
  {
   "cell_type": "code",
   "execution_count": 7,
   "metadata": {},
   "outputs": [
    {
     "data": {
      "text/plain": [
       "array([ True,  True, False], dtype=bool)"
      ]
     },
     "execution_count": 7,
     "metadata": {},
     "output_type": "execute_result"
    }
   ],
   "source": [
    "f = np.less_equal(a, b)\n",
    "f"
   ]
  },
  {
   "cell_type": "code",
   "execution_count": 8,
   "metadata": {},
   "outputs": [
    {
     "data": {
      "text/plain": [
       "array([ True,  True,  True], dtype=bool)"
      ]
     },
     "execution_count": 8,
     "metadata": {},
     "output_type": "execute_result"
    }
   ],
   "source": [
    "g = np.logical_or(a, b)\n",
    "g"
   ]
  },
  {
   "cell_type": "code",
   "execution_count": 9,
   "metadata": {},
   "outputs": [
    {
     "data": {
      "text/plain": [
       "array([ True,  True,  True], dtype=bool)"
      ]
     },
     "execution_count": 9,
     "metadata": {},
     "output_type": "execute_result"
    }
   ],
   "source": [
    "h = np.logical_and(a, b)\n",
    "h"
   ]
  },
  {
   "cell_type": "code",
   "execution_count": 12,
   "metadata": {},
   "outputs": [
    {
     "data": {
      "image/png": "[encoded data removed]",
      "text/plain": [
       "<matplotlib.figure.Figure at 0x7fc1f4ddde48>"
      ]
     },
     "metadata": {},
     "output_type": "display_data"
    }
   ],
   "source": [
    "def triangle_wave(x, c, c0, hc):\n",
    "    x = x - int(c)\n",
    "    if x >= c:\n",
    "        r = 0.0\n",
    "    elif x < c0:\n",
    "        r = x / c0 * hc\n",
    "    else:\n",
    "        r = (c-x) / (c-c0) * hc\n",
    "    return r\n",
    "triangle_ufunc1 = np.frompyfunc(triangle_wave, 4, 1)\n",
    "x = np.linspace(0, 2, 200)\n",
    "y = triangle_ufunc1(x, 0.6, 0.4, 1.0)\n",
    "import matplotlib.pyplot as plt\n",
    "plt.plot(x ,y)\n",
    "plt.show()\n"
   ]
  },
  {
   "cell_type": "code",
   "execution_count": 15,
   "metadata": {},
   "outputs": [
    {
     "data": {
      "text/plain": [
       "array([[0],\n",
       "       [1],\n",
       "       [2],\n",
       "       [3],\n",
       "       [4]])"
      ]
     },
     "execution_count": 15,
     "metadata": {},
     "output_type": "execute_result"
    }
   ],
   "source": [
    "x, y = np.ogrid[:5, :5]\n",
    "x"
   ]
  },
  {
   "cell_type": "code",
   "execution_count": 16,
   "metadata": {},
   "outputs": [
    {
     "data": {
      "text/plain": [
       "(5, 1)"
      ]
     },
     "execution_count": 16,
     "metadata": {},
     "output_type": "execute_result"
    }
   ],
   "source": [
    "x.shape\n"
   ]
  },
  {
   "cell_type": "code",
   "execution_count": 17,
   "metadata": {},
   "outputs": [
    {
     "data": {
      "text/plain": [
       "array([[0, 1, 2, 3, 4]])"
      ]
     },
     "execution_count": 17,
     "metadata": {},
     "output_type": "execute_result"
    }
   ],
   "source": [
    "y"
   ]
  },
  {
   "cell_type": "code",
   "execution_count": 18,
   "metadata": {},
   "outputs": [
    {
     "data": {
      "text/plain": [
       "(1, 5)"
      ]
     },
     "execution_count": 18,
     "metadata": {},
     "output_type": "execute_result"
    }
   ],
   "source": [
    "y.shape"
   ]
  },
  {
   "cell_type": "code",
   "execution_count": 19,
   "metadata": {
    "collapsed": true
   },
   "outputs": [],
   "source": [
    "x = np.linspace(-2, 2, 20)"
   ]
  },
  {
   "cell_type": "code",
   "execution_count": 20,
   "metadata": {
    "collapsed": true
   },
   "outputs": [],
   "source": [
    "y = np.linspace(-2, 2, 20)"
   ]
  },
  {
   "cell_type": "code",
   "execution_count": 23,
   "metadata": {},
   "outputs": [],
   "source": [
    "w, v = np.ogrid[-2:2:20j, -2:2:20j]"
   ]
  },
  {
   "cell_type": "code",
   "execution_count": 24,
   "metadata": {},
   "outputs": [
    {
     "data": {
      "text/plain": [
       "array([[-2.        ],\n",
       "       [-1.78947368],\n",
       "       [-1.57894737],\n",
       "       [-1.36842105],\n",
       "       [-1.15789474],\n",
       "       [-0.94736842],\n",
       "       [-0.73684211],\n",
       "       [-0.52631579],\n",
       "       [-0.31578947],\n",
       "       [-0.10526316],\n",
       "       [ 0.10526316],\n",
       "       [ 0.31578947],\n",
       "       [ 0.52631579],\n",
       "       [ 0.73684211],\n",
       "       [ 0.94736842],\n",
       "       [ 1.15789474],\n",
       "       [ 1.36842105],\n",
       "       [ 1.57894737],\n",
       "       [ 1.78947368],\n",
       "       [ 2.        ]])"
      ]
     },
     "execution_count": 24,
     "metadata": {},
     "output_type": "execute_result"
    }
   ],
   "source": [
    "w   "
   ]
  },
  {
   "cell_type": "code",
   "execution_count": 25,
   "metadata": {},
   "outputs": [
    {
     "data": {
      "text/plain": [
       "array([[-2.        , -1.78947368, -1.57894737, -1.36842105, -1.15789474,\n",
       "        -0.94736842, -0.73684211, -0.52631579, -0.31578947, -0.10526316,\n",
       "         0.10526316,  0.31578947,  0.52631579,  0.73684211,  0.94736842,\n",
       "         1.15789474,  1.36842105,  1.57894737,  1.78947368,  2.        ]])"
      ]
     },
     "execution_count": 25,
     "metadata": {},
     "output_type": "execute_result"
    }
   ],
   "source": [
    "v"
   ]
  },
  {
   "cell_type": "code",
   "execution_count": 26,
   "metadata": {
    "collapsed": true
   },
   "outputs": [],
   "source": [
    "w, v = np.mgrid[-2:2:20j, -2:2:20j]"
   ]
  },
  {
   "cell_type": "code",
   "execution_count": 27,
   "metadata": {},
   "outputs": [
    {
     "data": {
      "text/plain": [
       "array([[-2.        , -2.        , -2.        , -2.        , -2.        ,\n",
       "        -2.        , -2.        , -2.        , -2.        , -2.        ,\n",
       "        -2.        , -2.        , -2.        , -2.        , -2.        ,\n",
       "        -2.        , -2.        , -2.        , -2.        , -2.        ],\n",
       "       [-1.78947368, -1.78947368, -1.78947368, -1.78947368, -1.78947368,\n",
       "        -1.78947368, -1.78947368, -1.78947368, -1.78947368, -1.78947368,\n",
       "        -1.78947368, -1.78947368, -1.78947368, -1.78947368, -1.78947368,\n",
       "        -1.78947368, -1.78947368, -1.78947368, -1.78947368, -1.78947368],\n",
       "       [-1.57894737, -1.57894737, -1.57894737, -1.57894737, -1.57894737,\n",
       "        -1.57894737, -1.57894737, -1.57894737, -1.57894737, -1.57894737,\n",
       "        -1.57894737, -1.57894737, -1.57894737, -1.57894737, -1.57894737,\n",
       "        -1.57894737, -1.57894737, -1.57894737, -1.57894737, -1.57894737],\n",
       "       [-1.36842105, -1.36842105, -1.36842105, -1.36842105, -1.36842105,\n",
       "        -1.36842105, -1.36842105, -1.36842105, -1.36842105, -1.36842105,\n",
       "        -1.36842105, -1.36842105, -1.36842105, -1.36842105, -1.36842105,\n",
       "        -1.36842105, -1.36842105, -1.36842105, -1.36842105, -1.36842105],\n",
       "       [-1.15789474, -1.15789474, -1.15789474, -1.15789474, -1.15789474,\n",
       "        -1.15789474, -1.15789474, -1.15789474, -1.15789474, -1.15789474,\n",
       "        -1.15789474, -1.15789474, -1.15789474, -1.15789474, -1.15789474,\n",
       "        -1.15789474, -1.15789474, -1.15789474, -1.15789474, -1.15789474],\n",
       "       [-0.94736842, -0.94736842, -0.94736842, -0.94736842, -0.94736842,\n",
       "        -0.94736842, -0.94736842, -0.94736842, -0.94736842, -0.94736842,\n",
       "        -0.94736842, -0.94736842, -0.94736842, -0.94736842, -0.94736842,\n",
       "        -0.94736842, -0.94736842, -0.94736842, -0.94736842, -0.94736842],\n",
       "       [-0.73684211, -0.73684211, -0.73684211, -0.73684211, -0.73684211,\n",
       "        -0.73684211, -0.73684211, -0.73684211, -0.73684211, -0.73684211,\n",
       "        -0.73684211, -0.73684211, -0.73684211, -0.73684211, -0.73684211,\n",
       "        -0.73684211, -0.73684211, -0.73684211, -0.73684211, -0.73684211],\n",
       "       [-0.52631579, -0.52631579, -0.52631579, -0.52631579, -0.52631579,\n",
       "        -0.52631579, -0.52631579, -0.52631579, -0.52631579, -0.52631579,\n",
       "        -0.52631579, -0.52631579, -0.52631579, -0.52631579, -0.52631579,\n",
       "        -0.52631579, -0.52631579, -0.52631579, -0.52631579, -0.52631579],\n",
       "       [-0.31578947, -0.31578947, -0.31578947, -0.31578947, -0.31578947,\n",
       "        -0.31578947, -0.31578947, -0.31578947, -0.31578947, -0.31578947,\n",
       "        -0.31578947, -0.31578947, -0.31578947, -0.31578947, -0.31578947,\n",
       "        -0.31578947, -0.31578947, -0.31578947, -0.31578947, -0.31578947],\n",
       "       [-0.10526316, -0.10526316, -0.10526316, -0.10526316, -0.10526316,\n",
       "        -0.10526316, -0.10526316, -0.10526316, -0.10526316, -0.10526316,\n",
       "        -0.10526316, -0.10526316, -0.10526316, -0.10526316, -0.10526316,\n",
       "        -0.10526316, -0.10526316, -0.10526316, -0.10526316, -0.10526316],\n",
       "       [ 0.10526316,  0.10526316,  0.10526316,  0.10526316,  0.10526316,\n",
       "         0.10526316,  0.10526316,  0.10526316,  0.10526316,  0.10526316,\n",
       "         0.10526316,  0.10526316,  0.10526316,  0.10526316,  0.10526316,\n",
       "         0.10526316,  0.10526316,  0.10526316,  0.10526316,  0.10526316],\n",
       "       [ 0.31578947,  0.31578947,  0.31578947,  0.31578947,  0.31578947,\n",
       "         0.31578947,  0.31578947,  0.31578947,  0.31578947,  0.31578947,\n",
       "         0.31578947,  0.31578947,  0.31578947,  0.31578947,  0.31578947,\n",
       "         0.31578947,  0.31578947,  0.31578947,  0.31578947,  0.31578947],\n",
       "       [ 0.52631579,  0.52631579,  0.52631579,  0.52631579,  0.52631579,\n",
       "         0.52631579,  0.52631579,  0.52631579,  0.52631579,  0.52631579,\n",
       "         0.52631579,  0.52631579,  0.52631579,  0.52631579,  0.52631579,\n",
       "         0.52631579,  0.52631579,  0.52631579,  0.52631579,  0.52631579],\n",
       "       [ 0.73684211,  0.73684211,  0.73684211,  0.73684211,  0.73684211,\n",
       "         0.73684211,  0.73684211,  0.73684211,  0.73684211,  0.73684211,\n",
       "         0.73684211,  0.73684211,  0.73684211,  0.73684211,  0.73684211,\n",
       "         0.73684211,  0.73684211,  0.73684211,  0.73684211,  0.73684211],\n",
       "       [ 0.94736842,  0.94736842,  0.94736842,  0.94736842,  0.94736842,\n",
       "         0.94736842,  0.94736842,  0.94736842,  0.94736842,  0.94736842,\n",
       "         0.94736842,  0.94736842,  0.94736842,  0.94736842,  0.94736842,\n",
       "         0.94736842,  0.94736842,  0.94736842,  0.94736842,  0.94736842],\n",
       "       [ 1.15789474,  1.15789474,  1.15789474,  1.15789474,  1.15789474,\n",
       "         1.15789474,  1.15789474,  1.15789474,  1.15789474,  1.15789474,\n",
       "         1.15789474,  1.15789474,  1.15789474,  1.15789474,  1.15789474,\n",
       "         1.15789474,  1.15789474,  1.15789474,  1.15789474,  1.15789474],\n",
       "       [ 1.36842105,  1.36842105,  1.36842105,  1.36842105,  1.36842105,\n",
       "         1.36842105,  1.36842105,  1.36842105,  1.36842105,  1.36842105,\n",
       "         1.36842105,  1.36842105,  1.36842105,  1.36842105,  1.36842105,\n",
       "         1.36842105,  1.36842105,  1.36842105,  1.36842105,  1.36842105],\n",
       "       [ 1.57894737,  1.57894737,  1.57894737,  1.57894737,  1.57894737,\n",
       "         1.57894737,  1.57894737,  1.57894737,  1.57894737,  1.57894737,\n",
       "         1.57894737,  1.57894737,  1.57894737,  1.57894737,  1.57894737,\n",
       "         1.57894737,  1.57894737,  1.57894737,  1.57894737,  1.57894737],\n",
       "       [ 1.78947368,  1.78947368,  1.78947368,  1.78947368,  1.78947368,\n",
       "         1.78947368,  1.78947368,  1.78947368,  1.78947368,  1.78947368,\n",
       "         1.78947368,  1.78947368,  1.78947368,  1.78947368,  1.78947368,\n",
       "         1.78947368,  1.78947368,  1.78947368,  1.78947368,  1.78947368],\n",
       "       [ 2.        ,  2.        ,  2.        ,  2.        ,  2.        ,\n",
       "         2.        ,  2.        ,  2.        ,  2.        ,  2.        ,\n",
       "         2.        ,  2.        ,  2.        ,  2.        ,  2.        ,\n",
       "         2.        ,  2.        ,  2.        ,  2.        ,  2.        ]])"
      ]
     },
     "execution_count": 27,
     "metadata": {},
     "output_type": "execute_result"
    }
   ],
   "source": [
    "w "
   ]
  },
  {
   "cell_type": "code",
   "execution_count": 28,
   "metadata": {},
   "outputs": [
    {
     "data": {
      "text/plain": [
       "array([[-2.        , -1.78947368, -1.57894737, -1.36842105, -1.15789474,\n",
       "        -0.94736842, -0.73684211, -0.52631579, -0.31578947, -0.10526316,\n",
       "         0.10526316,  0.31578947,  0.52631579,  0.73684211,  0.94736842,\n",
       "         1.15789474,  1.36842105,  1.57894737,  1.78947368,  2.        ],\n",
       "       [-2.        , -1.78947368, -1.57894737, -1.36842105, -1.15789474,\n",
       "        -0.94736842, -0.73684211, -0.52631579, -0.31578947, -0.10526316,\n",
       "         0.10526316,  0.31578947,  0.52631579,  0.73684211,  0.94736842,\n",
       "         1.15789474,  1.36842105,  1.57894737,  1.78947368,  2.        ],\n",
       "       [-2.        , -1.78947368, -1.57894737, -1.36842105, -1.15789474,\n",
       "        -0.94736842, -0.73684211, -0.52631579, -0.31578947, -0.10526316,\n",
       "         0.10526316,  0.31578947,  0.52631579,  0.73684211,  0.94736842,\n",
       "         1.15789474,  1.36842105,  1.57894737,  1.78947368,  2.        ],\n",
       "       [-2.        , -1.78947368, -1.57894737, -1.36842105, -1.15789474,\n",
       "        -0.94736842, -0.73684211, -0.52631579, -0.31578947, -0.10526316,\n",
       "         0.10526316,  0.31578947,  0.52631579,  0.73684211,  0.94736842,\n",
       "         1.15789474,  1.36842105,  1.57894737,  1.78947368,  2.        ],\n",
       "       [-2.        , -1.78947368, -1.57894737, -1.36842105, -1.15789474,\n",
       "        -0.94736842, -0.73684211, -0.52631579, -0.31578947, -0.10526316,\n",
       "         0.10526316,  0.31578947,  0.52631579,  0.73684211,  0.94736842,\n",
       "         1.15789474,  1.36842105,  1.57894737,  1.78947368,  2.        ],\n",
       "       [-2.        , -1.78947368, -1.57894737, -1.36842105, -1.15789474,\n",
       "        -0.94736842, -0.73684211, -0.52631579, -0.31578947, -0.10526316,\n",
       "         0.10526316,  0.31578947,  0.52631579,  0.73684211,  0.94736842,\n",
       "         1.15789474,  1.36842105,  1.57894737,  1.78947368,  2.        ],\n",
       "       [-2.        , -1.78947368, -1.57894737, -1.36842105, -1.15789474,\n",
       "        -0.94736842, -0.73684211, -0.52631579, -0.31578947, -0.10526316,\n",
       "         0.10526316,  0.31578947,  0.52631579,  0.73684211,  0.94736842,\n",
       "         1.15789474,  1.36842105,  1.57894737,  1.78947368,  2.        ],\n",
       "       [-2.        , -1.78947368, -1.57894737, -1.36842105, -1.15789474,\n",
       "        -0.94736842, -0.73684211, -0.52631579, -0.31578947, -0.10526316,\n",
       "         0.10526316,  0.31578947,  0.52631579,  0.73684211,  0.94736842,\n",
       "         1.15789474,  1.36842105,  1.57894737,  1.78947368,  2.        ],\n",
       "       [-2.        , -1.78947368, -1.57894737, -1.36842105, -1.15789474,\n",
       "        -0.94736842, -0.73684211, -0.52631579, -0.31578947, -0.10526316,\n",
       "         0.10526316,  0.31578947,  0.52631579,  0.73684211,  0.94736842,\n",
       "         1.15789474,  1.36842105,  1.57894737,  1.78947368,  2.        ],\n",
       "       [-2.        , -1.78947368, -1.57894737, -1.36842105, -1.15789474,\n",
       "        -0.94736842, -0.73684211, -0.52631579, -0.31578947, -0.10526316,\n",
       "         0.10526316,  0.31578947,  0.52631579,  0.73684211,  0.94736842,\n",
       "         1.15789474,  1.36842105,  1.57894737,  1.78947368,  2.        ],\n",
       "       [-2.        , -1.78947368, -1.57894737, -1.36842105, -1.15789474,\n",
       "        -0.94736842, -0.73684211, -0.52631579, -0.31578947, -0.10526316,\n",
       "         0.10526316,  0.31578947,  0.52631579,  0.73684211,  0.94736842,\n",
       "         1.15789474,  1.36842105,  1.57894737,  1.78947368,  2.        ],\n",
       "       [-2.        , -1.78947368, -1.57894737, -1.36842105, -1.15789474,\n",
       "        -0.94736842, -0.73684211, -0.52631579, -0.31578947, -0.10526316,\n",
       "         0.10526316,  0.31578947,  0.52631579,  0.73684211,  0.94736842,\n",
       "         1.15789474,  1.36842105,  1.57894737,  1.78947368,  2.        ],\n",
       "       [-2.        , -1.78947368, -1.57894737, -1.36842105, -1.15789474,\n",
       "        -0.94736842, -0.73684211, -0.52631579, -0.31578947, -0.10526316,\n",
       "         0.10526316,  0.31578947,  0.52631579,  0.73684211,  0.94736842,\n",
       "         1.15789474,  1.36842105,  1.57894737,  1.78947368,  2.        ],\n",
       "       [-2.        , -1.78947368, -1.57894737, -1.36842105, -1.15789474,\n",
       "        -0.94736842, -0.73684211, -0.52631579, -0.31578947, -0.10526316,\n",
       "         0.10526316,  0.31578947,  0.52631579,  0.73684211,  0.94736842,\n",
       "         1.15789474,  1.36842105,  1.57894737,  1.78947368,  2.        ],\n",
       "       [-2.        , -1.78947368, -1.57894737, -1.36842105, -1.15789474,\n",
       "        -0.94736842, -0.73684211, -0.52631579, -0.31578947, -0.10526316,\n",
       "         0.10526316,  0.31578947,  0.52631579,  0.73684211,  0.94736842,\n",
       "         1.15789474,  1.36842105,  1.57894737,  1.78947368,  2.        ],\n",
       "       [-2.        , -1.78947368, -1.57894737, -1.36842105, -1.15789474,\n",
       "        -0.94736842, -0.73684211, -0.52631579, -0.31578947, -0.10526316,\n",
       "         0.10526316,  0.31578947,  0.52631579,  0.73684211,  0.94736842,\n",
       "         1.15789474,  1.36842105,  1.57894737,  1.78947368,  2.        ],\n",
       "       [-2.        , -1.78947368, -1.57894737, -1.36842105, -1.15789474,\n",
       "        -0.94736842, -0.73684211, -0.52631579, -0.31578947, -0.10526316,\n",
       "         0.10526316,  0.31578947,  0.52631579,  0.73684211,  0.94736842,\n",
       "         1.15789474,  1.36842105,  1.57894737,  1.78947368,  2.        ],\n",
       "       [-2.        , -1.78947368, -1.57894737, -1.36842105, -1.15789474,\n",
       "        -0.94736842, -0.73684211, -0.52631579, -0.31578947, -0.10526316,\n",
       "         0.10526316,  0.31578947,  0.52631579,  0.73684211,  0.94736842,\n",
       "         1.15789474,  1.36842105,  1.57894737,  1.78947368,  2.        ],\n",
       "       [-2.        , -1.78947368, -1.57894737, -1.36842105, -1.15789474,\n",
       "        -0.94736842, -0.73684211, -0.52631579, -0.31578947, -0.10526316,\n",
       "         0.10526316,  0.31578947,  0.52631579,  0.73684211,  0.94736842,\n",
       "         1.15789474,  1.36842105,  1.57894737,  1.78947368,  2.        ],\n",
       "       [-2.        , -1.78947368, -1.57894737, -1.36842105, -1.15789474,\n",
       "        -0.94736842, -0.73684211, -0.52631579, -0.31578947, -0.10526316,\n",
       "         0.10526316,  0.31578947,  0.52631579,  0.73684211,  0.94736842,\n",
       "         1.15789474,  1.36842105,  1.57894737,  1.78947368,  2.        ]])"
      ]
     },
     "execution_count": 28,
     "metadata": {},
     "output_type": "execute_result"
    }
   ],
   "source": [
    "v"
   ]
  },
  {
   "cell_type": "code",
   "execution_count": 29,
   "metadata": {},
   "outputs": [
    {
     "data": {
      "text/plain": [
       "array([[-2.        , -1.78947368, -1.57894737, -1.36842105, -1.15789474,\n",
       "        -0.94736842, -0.73684211, -0.52631579, -0.31578947, -0.10526316,\n",
       "         0.10526316,  0.31578947,  0.52631579,  0.73684211,  0.94736842,\n",
       "         1.15789474,  1.36842105,  1.57894737,  1.78947368,  2.        ],\n",
       "       [-2.        , -1.78947368, -1.57894737, -1.36842105, -1.15789474,\n",
       "        -0.94736842, -0.73684211, -0.52631579, -0.31578947, -0.10526316,\n",
       "         0.10526316,  0.31578947,  0.52631579,  0.73684211,  0.94736842,\n",
       "         1.15789474,  1.36842105,  1.57894737,  1.78947368,  2.        ],\n",
       "       [-2.        , -1.78947368, -1.57894737, -1.36842105, -1.15789474,\n",
       "        -0.94736842, -0.73684211, -0.52631579, -0.31578947, -0.10526316,\n",
       "         0.10526316,  0.31578947,  0.52631579,  0.73684211,  0.94736842,\n",
       "         1.15789474,  1.36842105,  1.57894737,  1.78947368,  2.        ],\n",
       "       [-2.        , -1.78947368, -1.57894737, -1.36842105, -1.15789474,\n",
       "        -0.94736842, -0.73684211, -0.52631579, -0.31578947, -0.10526316,\n",
       "         0.10526316,  0.31578947,  0.52631579,  0.73684211,  0.94736842,\n",
       "         1.15789474,  1.36842105,  1.57894737,  1.78947368,  2.        ],\n",
       "       [-2.        , -1.78947368, -1.57894737, -1.36842105, -1.15789474,\n",
       "        -0.94736842, -0.73684211, -0.52631579, -0.31578947, -0.10526316,\n",
       "         0.10526316,  0.31578947,  0.52631579,  0.73684211,  0.94736842,\n",
       "         1.15789474,  1.36842105,  1.57894737,  1.78947368,  2.        ],\n",
       "       [-2.        , -1.78947368, -1.57894737, -1.36842105, -1.15789474,\n",
       "        -0.94736842, -0.73684211, -0.52631579, -0.31578947, -0.10526316,\n",
       "         0.10526316,  0.31578947,  0.52631579,  0.73684211,  0.94736842,\n",
       "         1.15789474,  1.36842105,  1.57894737,  1.78947368,  2.        ],\n",
       "       [-2.        , -1.78947368, -1.57894737, -1.36842105, -1.15789474,\n",
       "        -0.94736842, -0.73684211, -0.52631579, -0.31578947, -0.10526316,\n",
       "         0.10526316,  0.31578947,  0.52631579,  0.73684211,  0.94736842,\n",
       "         1.15789474,  1.36842105,  1.57894737,  1.78947368,  2.        ],\n",
       "       [-2.        , -1.78947368, -1.57894737, -1.36842105, -1.15789474,\n",
       "        -0.94736842, -0.73684211, -0.52631579, -0.31578947, -0.10526316,\n",
       "         0.10526316,  0.31578947,  0.52631579,  0.73684211,  0.94736842,\n",
       "         1.15789474,  1.36842105,  1.57894737,  1.78947368,  2.        ],\n",
       "       [-2.        , -1.78947368, -1.57894737, -1.36842105, -1.15789474,\n",
       "        -0.94736842, -0.73684211, -0.52631579, -0.31578947, -0.10526316,\n",
       "         0.10526316,  0.31578947,  0.52631579,  0.73684211,  0.94736842,\n",
       "         1.15789474,  1.36842105,  1.57894737,  1.78947368,  2.        ],\n",
       "       [-2.        , -1.78947368, -1.57894737, -1.36842105, -1.15789474,\n",
       "        -0.94736842, -0.73684211, -0.52631579, -0.31578947, -0.10526316,\n",
       "         0.10526316,  0.31578947,  0.52631579,  0.73684211,  0.94736842,\n",
       "         1.15789474,  1.36842105,  1.57894737,  1.78947368,  2.        ],\n",
       "       [-2.        , -1.78947368, -1.57894737, -1.36842105, -1.15789474,\n",
       "        -0.94736842, -0.73684211, -0.52631579, -0.31578947, -0.10526316,\n",
       "         0.10526316,  0.31578947,  0.52631579,  0.73684211,  0.94736842,\n",
       "         1.15789474,  1.36842105,  1.57894737,  1.78947368,  2.        ],\n",
       "       [-2.        , -1.78947368, -1.57894737, -1.36842105, -1.15789474,\n",
       "        -0.94736842, -0.73684211, -0.52631579, -0.31578947, -0.10526316,\n",
       "         0.10526316,  0.31578947,  0.52631579,  0.73684211,  0.94736842,\n",
       "         1.15789474,  1.36842105,  1.57894737,  1.78947368,  2.        ],\n",
       "       [-2.        , -1.78947368, -1.57894737, -1.36842105, -1.15789474,\n",
       "        -0.94736842, -0.73684211, -0.52631579, -0.31578947, -0.10526316,\n",
       "         0.10526316,  0.31578947,  0.52631579,  0.73684211,  0.94736842,\n",
       "         1.15789474,  1.36842105,  1.57894737,  1.78947368,  2.        ],\n",
       "       [-2.        , -1.78947368, -1.57894737, -1.36842105, -1.15789474,\n",
       "        -0.94736842, -0.73684211, -0.52631579, -0.31578947, -0.10526316,\n",
       "         0.10526316,  0.31578947,  0.52631579,  0.73684211,  0.94736842,\n",
       "         1.15789474,  1.36842105,  1.57894737,  1.78947368,  2.        ],\n",
       "       [-2.        , -1.78947368, -1.57894737, -1.36842105, -1.15789474,\n",
       "        -0.94736842, -0.73684211, -0.52631579, -0.31578947, -0.10526316,\n",
       "         0.10526316,  0.31578947,  0.52631579,  0.73684211,  0.94736842,\n",
       "         1.15789474,  1.36842105,  1.57894737,  1.78947368,  2.        ],\n",
       "       [-2.        , -1.78947368, -1.57894737, -1.36842105, -1.15789474,\n",
       "        -0.94736842, -0.73684211, -0.52631579, -0.31578947, -0.10526316,\n",
       "         0.10526316,  0.31578947,  0.52631579,  0.73684211,  0.94736842,\n",
       "         1.15789474,  1.36842105,  1.57894737,  1.78947368,  2.        ],\n",
       "       [-2.        , -1.78947368, -1.57894737, -1.36842105, -1.15789474,\n",
       "        -0.94736842, -0.73684211, -0.52631579, -0.31578947, -0.10526316,\n",
       "         0.10526316,  0.31578947,  0.52631579,  0.73684211,  0.94736842,\n",
       "         1.15789474,  1.36842105,  1.57894737,  1.78947368,  2.        ],\n",
       "       [-2.        , -1.78947368, -1.57894737, -1.36842105, -1.15789474,\n",
       "        -0.94736842, -0.73684211, -0.52631579, -0.31578947, -0.10526316,\n",
       "         0.10526316,  0.31578947,  0.52631579,  0.73684211,  0.94736842,\n",
       "         1.15789474,  1.36842105,  1.57894737,  1.78947368,  2.        ],\n",
       "       [-2.        , -1.78947368, -1.57894737, -1.36842105, -1.15789474,\n",
       "        -0.94736842, -0.73684211, -0.52631579, -0.31578947, -0.10526316,\n",
       "         0.10526316,  0.31578947,  0.52631579,  0.73684211,  0.94736842,\n",
       "         1.15789474,  1.36842105,  1.57894737,  1.78947368,  2.        ],\n",
       "       [-2.        , -1.78947368, -1.57894737, -1.36842105, -1.15789474,\n",
       "        -0.94736842, -0.73684211, -0.52631579, -0.31578947, -0.10526316,\n",
       "         0.10526316,  0.31578947,  0.52631579,  0.73684211,  0.94736842,\n",
       "         1.15789474,  1.36842105,  1.57894737,  1.78947368,  2.        ]])"
      ]
     },
     "execution_count": 29,
     "metadata": {},
     "output_type": "execute_result"
    }
   ],
   "source": [
    "v"
   ]
  },
  {
   "cell_type": "code",
   "execution_count": 30,
   "metadata": {
    "collapsed": true
   },
   "outputs": [],
   "source": [
    "z = w + v"
   ]
  },
  {
   "cell_type": "code",
   "execution_count": 31,
   "metadata": {},
   "outputs": [
    {
     "data": {
      "text/plain": [
       "array([[ -4.00000000e+00,  -3.78947368e+00,  -3.57894737e+00,\n",
       "         -3.36842105e+00,  -3.15789474e+00,  -2.94736842e+00,\n",
       "         -2.73684211e+00,  -2.52631579e+00,  -2.31578947e+00,\n",
       "         -2.10526316e+00,  -1.89473684e+00,  -1.68421053e+00,\n",
       "         -1.47368421e+00,  -1.26315789e+00,  -1.05263158e+00,\n",
       "         -8.42105263e-01,  -6.31578947e-01,  -4.21052632e-01,\n",
       "         -2.10526316e-01,   0.00000000e+00],\n",
       "       [ -3.78947368e+00,  -3.57894737e+00,  -3.36842105e+00,\n",
       "         -3.15789474e+00,  -2.94736842e+00,  -2.73684211e+00,\n",
       "         -2.52631579e+00,  -2.31578947e+00,  -2.10526316e+00,\n",
       "         -1.89473684e+00,  -1.68421053e+00,  -1.47368421e+00,\n",
       "         -1.26315789e+00,  -1.05263158e+00,  -8.42105263e-01,\n",
       "         -6.31578947e-01,  -4.21052632e-01,  -2.10526316e-01,\n",
       "         -2.22044605e-16,   2.10526316e-01],\n",
       "       [ -3.57894737e+00,  -3.36842105e+00,  -3.15789474e+00,\n",
       "         -2.94736842e+00,  -2.73684211e+00,  -2.52631579e+00,\n",
       "         -2.31578947e+00,  -2.10526316e+00,  -1.89473684e+00,\n",
       "         -1.68421053e+00,  -1.47368421e+00,  -1.26315789e+00,\n",
       "         -1.05263158e+00,  -8.42105263e-01,  -6.31578947e-01,\n",
       "         -4.21052632e-01,  -2.10526316e-01,  -4.44089210e-16,\n",
       "          2.10526316e-01,   4.21052632e-01],\n",
       "       [ -3.36842105e+00,  -3.15789474e+00,  -2.94736842e+00,\n",
       "         -2.73684211e+00,  -2.52631579e+00,  -2.31578947e+00,\n",
       "         -2.10526316e+00,  -1.89473684e+00,  -1.68421053e+00,\n",
       "         -1.47368421e+00,  -1.26315789e+00,  -1.05263158e+00,\n",
       "         -8.42105263e-01,  -6.31578947e-01,  -4.21052632e-01,\n",
       "         -2.10526316e-01,  -2.22044605e-16,   2.10526316e-01,\n",
       "          4.21052632e-01,   6.31578947e-01],\n",
       "       [ -3.15789474e+00,  -2.94736842e+00,  -2.73684211e+00,\n",
       "         -2.52631579e+00,  -2.31578947e+00,  -2.10526316e+00,\n",
       "         -1.89473684e+00,  -1.68421053e+00,  -1.47368421e+00,\n",
       "         -1.26315789e+00,  -1.05263158e+00,  -8.42105263e-01,\n",
       "         -6.31578947e-01,  -4.21052632e-01,  -2.10526316e-01,\n",
       "          0.00000000e+00,   2.10526316e-01,   4.21052632e-01,\n",
       "          6.31578947e-01,   8.42105263e-01],\n",
       "       [ -2.94736842e+00,  -2.73684211e+00,  -2.52631579e+00,\n",
       "         -2.31578947e+00,  -2.10526316e+00,  -1.89473684e+00,\n",
       "         -1.68421053e+00,  -1.47368421e+00,  -1.26315789e+00,\n",
       "         -1.05263158e+00,  -8.42105263e-01,  -6.31578947e-01,\n",
       "         -4.21052632e-01,  -2.10526316e-01,  -2.22044605e-16,\n",
       "          2.10526316e-01,   4.21052632e-01,   6.31578947e-01,\n",
       "          8.42105263e-01,   1.05263158e+00],\n",
       "       [ -2.73684211e+00,  -2.52631579e+00,  -2.31578947e+00,\n",
       "         -2.10526316e+00,  -1.89473684e+00,  -1.68421053e+00,\n",
       "         -1.47368421e+00,  -1.26315789e+00,  -1.05263158e+00,\n",
       "         -8.42105263e-01,  -6.31578947e-01,  -4.21052632e-01,\n",
       "         -2.10526316e-01,  -4.44089210e-16,   2.10526316e-01,\n",
       "          4.21052632e-01,   6.31578947e-01,   8.42105263e-01,\n",
       "          1.05263158e+00,   1.26315789e+00],\n",
       "       [ -2.52631579e+00,  -2.31578947e+00,  -2.10526316e+00,\n",
       "         -1.89473684e+00,  -1.68421053e+00,  -1.47368421e+00,\n",
       "         -1.26315789e+00,  -1.05263158e+00,  -8.42105263e-01,\n",
       "         -6.31578947e-01,  -4.21052632e-01,  -2.10526316e-01,\n",
       "         -2.22044605e-16,   2.10526316e-01,   4.21052632e-01,\n",
       "          6.31578947e-01,   8.42105263e-01,   1.05263158e+00,\n",
       "          1.26315789e+00,   1.47368421e+00],\n",
       "       [ -2.31578947e+00,  -2.10526316e+00,  -1.89473684e+00,\n",
       "         -1.68421053e+00,  -1.47368421e+00,  -1.26315789e+00,\n",
       "         -1.05263158e+00,  -8.42105263e-01,  -6.31578947e-01,\n",
       "         -4.21052632e-01,  -2.10526316e-01,   0.00000000e+00,\n",
       "          2.10526316e-01,   4.21052632e-01,   6.31578947e-01,\n",
       "          8.42105263e-01,   1.05263158e+00,   1.26315789e+00,\n",
       "          1.47368421e+00,   1.68421053e+00],\n",
       "       [ -2.10526316e+00,  -1.89473684e+00,  -1.68421053e+00,\n",
       "         -1.47368421e+00,  -1.26315789e+00,  -1.05263158e+00,\n",
       "         -8.42105263e-01,  -6.31578947e-01,  -4.21052632e-01,\n",
       "         -2.10526316e-01,  -2.22044605e-16,   2.10526316e-01,\n",
       "          4.21052632e-01,   6.31578947e-01,   8.42105263e-01,\n",
       "          1.05263158e+00,   1.26315789e+00,   1.47368421e+00,\n",
       "          1.68421053e+00,   1.89473684e+00],\n",
       "       [ -1.89473684e+00,  -1.68421053e+00,  -1.47368421e+00,\n",
       "         -1.26315789e+00,  -1.05263158e+00,  -8.42105263e-01,\n",
       "         -6.31578947e-01,  -4.21052632e-01,  -2.10526316e-01,\n",
       "         -2.22044605e-16,   2.10526316e-01,   4.21052632e-01,\n",
       "          6.31578947e-01,   8.42105263e-01,   1.05263158e+00,\n",
       "          1.26315789e+00,   1.47368421e+00,   1.68421053e+00,\n",
       "          1.89473684e+00,   2.10526316e+00],\n",
       "       [ -1.68421053e+00,  -1.47368421e+00,  -1.26315789e+00,\n",
       "         -1.05263158e+00,  -8.42105263e-01,  -6.31578947e-01,\n",
       "         -4.21052632e-01,  -2.10526316e-01,   0.00000000e+00,\n",
       "          2.10526316e-01,   4.21052632e-01,   6.31578947e-01,\n",
       "          8.42105263e-01,   1.05263158e+00,   1.26315789e+00,\n",
       "          1.47368421e+00,   1.68421053e+00,   1.89473684e+00,\n",
       "          2.10526316e+00,   2.31578947e+00],\n",
       "       [ -1.47368421e+00,  -1.26315789e+00,  -1.05263158e+00,\n",
       "         -8.42105263e-01,  -6.31578947e-01,  -4.21052632e-01,\n",
       "         -2.10526316e-01,  -2.22044605e-16,   2.10526316e-01,\n",
       "          4.21052632e-01,   6.31578947e-01,   8.42105263e-01,\n",
       "          1.05263158e+00,   1.26315789e+00,   1.47368421e+00,\n",
       "          1.68421053e+00,   1.89473684e+00,   2.10526316e+00,\n",
       "          2.31578947e+00,   2.52631579e+00],\n",
       "       [ -1.26315789e+00,  -1.05263158e+00,  -8.42105263e-01,\n",
       "         -6.31578947e-01,  -4.21052632e-01,  -2.10526316e-01,\n",
       "         -4.44089210e-16,   2.10526316e-01,   4.21052632e-01,\n",
       "          6.31578947e-01,   8.42105263e-01,   1.05263158e+00,\n",
       "          1.26315789e+00,   1.47368421e+00,   1.68421053e+00,\n",
       "          1.89473684e+00,   2.10526316e+00,   2.31578947e+00,\n",
       "          2.52631579e+00,   2.73684211e+00],\n",
       "       [ -1.05263158e+00,  -8.42105263e-01,  -6.31578947e-01,\n",
       "         -4.21052632e-01,  -2.10526316e-01,  -2.22044605e-16,\n",
       "          2.10526316e-01,   4.21052632e-01,   6.31578947e-01,\n",
       "          8.42105263e-01,   1.05263158e+00,   1.26315789e+00,\n",
       "          1.47368421e+00,   1.68421053e+00,   1.89473684e+00,\n",
       "          2.10526316e+00,   2.31578947e+00,   2.52631579e+00,\n",
       "          2.73684211e+00,   2.94736842e+00],\n",
       "       [ -8.42105263e-01,  -6.31578947e-01,  -4.21052632e-01,\n",
       "         -2.10526316e-01,   0.00000000e+00,   2.10526316e-01,\n",
       "          4.21052632e-01,   6.31578947e-01,   8.42105263e-01,\n",
       "          1.05263158e+00,   1.26315789e+00,   1.47368421e+00,\n",
       "          1.68421053e+00,   1.89473684e+00,   2.10526316e+00,\n",
       "          2.31578947e+00,   2.52631579e+00,   2.73684211e+00,\n",
       "          2.94736842e+00,   3.15789474e+00],\n",
       "       [ -6.31578947e-01,  -4.21052632e-01,  -2.10526316e-01,\n",
       "         -2.22044605e-16,   2.10526316e-01,   4.21052632e-01,\n",
       "          6.31578947e-01,   8.42105263e-01,   1.05263158e+00,\n",
       "          1.26315789e+00,   1.47368421e+00,   1.68421053e+00,\n",
       "          1.89473684e+00,   2.10526316e+00,   2.31578947e+00,\n",
       "          2.52631579e+00,   2.73684211e+00,   2.94736842e+00,\n",
       "          3.15789474e+00,   3.36842105e+00],\n",
       "       [ -4.21052632e-01,  -2.10526316e-01,  -4.44089210e-16,\n",
       "          2.10526316e-01,   4.21052632e-01,   6.31578947e-01,\n",
       "          8.42105263e-01,   1.05263158e+00,   1.26315789e+00,\n",
       "          1.47368421e+00,   1.68421053e+00,   1.89473684e+00,\n",
       "          2.10526316e+00,   2.31578947e+00,   2.52631579e+00,\n",
       "          2.73684211e+00,   2.94736842e+00,   3.15789474e+00,\n",
       "          3.36842105e+00,   3.57894737e+00],\n",
       "       [ -2.10526316e-01,  -2.22044605e-16,   2.10526316e-01,\n",
       "          4.21052632e-01,   6.31578947e-01,   8.42105263e-01,\n",
       "          1.05263158e+00,   1.26315789e+00,   1.47368421e+00,\n",
       "          1.68421053e+00,   1.89473684e+00,   2.10526316e+00,\n",
       "          2.31578947e+00,   2.52631579e+00,   2.73684211e+00,\n",
       "          2.94736842e+00,   3.15789474e+00,   3.36842105e+00,\n",
       "          3.57894737e+00,   3.78947368e+00],\n",
       "       [  0.00000000e+00,   2.10526316e-01,   4.21052632e-01,\n",
       "          6.31578947e-01,   8.42105263e-01,   1.05263158e+00,\n",
       "          1.26315789e+00,   1.47368421e+00,   1.68421053e+00,\n",
       "          1.89473684e+00,   2.10526316e+00,   2.31578947e+00,\n",
       "          2.52631579e+00,   2.73684211e+00,   2.94736842e+00,\n",
       "          3.15789474e+00,   3.36842105e+00,   3.57894737e+00,\n",
       "          3.78947368e+00,   4.00000000e+00]])"
      ]
     },
     "execution_count": 31,
     "metadata": {},
     "output_type": "execute_result"
    }
   ],
   "source": [
    "z"
   ]
  },
  {
   "cell_type": "code",
   "execution_count": 32,
   "metadata": {
    "collapsed": true
   },
   "outputs": [],
   "source": [
    "u, v = np.mgrid[-1:1:100j, -1:1:100j]\n"
   ]
  },
  {
   "cell_type": "code",
   "execution_count": 35,
   "metadata": {
    "collapsed": true
   },
   "outputs": [],
   "source": [
    "r1 = np.add.reduce([1, 2, 3, 4])"
   ]
  },
  {
   "cell_type": "code",
   "execution_count": 36,
   "metadata": {},
   "outputs": [
    {
     "data": {
      "text/plain": [
       "10"
      ]
     },
     "execution_count": 36,
     "metadata": {},
     "output_type": "execute_result"
    }
   ],
   "source": [
    "r1"
   ]
  },
  {
   "cell_type": "code",
   "execution_count": 39,
   "metadata": {},
   "outputs": [
    {
     "data": {
      "text/plain": [
       "array([ 6, 15])"
      ]
     },
     "execution_count": 39,
     "metadata": {},
     "output_type": "execute_result"
    }
   ],
   "source": [
    "r2 = np.add.reduce([[1, 2, 3], [4, 5, 6]], axis=1)\n",
    "r2"
   ]
  },
  {
   "cell_type": "code",
   "execution_count": 41,
   "metadata": {},
   "outputs": [],
   "source": [
    "x = np.random.rand(4, 3)"
   ]
  },
  {
   "cell_type": "code",
   "execution_count": 42,
   "metadata": {},
   "outputs": [
    {
     "data": {
      "text/plain": [
       "array([[ 0.1798422 ,  0.25852433,  0.38703176],\n",
       "       [ 0.81759308,  0.44938876,  0.56810272],\n",
       "       [ 0.61044186,  0.55364724,  0.5625979 ],\n",
       "       [ 0.8583533 ,  0.86297387,  0.68208534]])"
      ]
     },
     "execution_count": 42,
     "metadata": {},
     "output_type": "execute_result"
    }
   ],
   "source": [
    "x "
   ]
  },
  {
   "cell_type": "code",
   "execution_count": 44,
   "metadata": {},
   "outputs": [],
   "source": [
    "y = np.random.rand(4, 3)"
   ]
  },
  {
   "cell_type": "code",
   "execution_count": 45,
   "metadata": {},
   "outputs": [
    {
     "data": {
      "text/plain": [
       "array([[ 0.84847952,  0.43379271,  0.92544865],\n",
       "       [ 0.43418091,  0.63678134,  0.09602959],\n",
       "       [ 0.61591745,  0.80390999,  0.01678936],\n",
       "       [ 0.73808557,  0.46293414,  0.23115383]])"
      ]
     },
     "execution_count": 45,
     "metadata": {},
     "output_type": "execute_result"
    }
   ],
   "source": [
    "y"
   ]
  },
  {
   "cell_type": "code",
   "execution_count": 46,
   "metadata": {},
   "outputs": [
    {
     "data": {
      "text/plain": [
       "array([[ 1.00764906, -1.14055108, -0.08262747],\n",
       "       [ 0.44821544, -0.19811424, -1.55191606],\n",
       "       [-0.22493374,  0.69566109,  0.51352418],\n",
       "       [-0.1109045 ,  0.74779743, -0.18698712]])"
      ]
     },
     "execution_count": 46,
     "metadata": {},
     "output_type": "execute_result"
    }
   ],
   "source": [
    "y = np.random.randn(4, 3)\n",
    "y"
   ]
  },
  {
   "cell_type": "code",
   "execution_count": 48,
   "metadata": {},
   "outputs": [
    {
     "data": {
      "text/plain": [
       "array([[38, 61, 23],\n",
       "       [89, 30, 91],\n",
       "       [16, 39, 81],\n",
       "       [57, 83, 42]])"
      ]
     },
     "execution_count": 48,
     "metadata": {},
     "output_type": "execute_result"
    }
   ],
   "source": [
    "y = np.random.randint(0, 100, size=(4, 3))\n",
    "y"
   ]
  },
  {
   "cell_type": "code",
   "execution_count": 50,
   "metadata": {},
   "outputs": [],
   "source": [
    "def normal_pdf(mean, var, x):\n",
    "    return 1/ np.sqrt(2*np.pi*var) * np.exp(-(x-mean)**2/ (2*var))\n",
    "\n",
    "np.random.seed(42)\n",
    "data = np.random.normal(0, 2.0, size=10)\n",
    "mean, var = np.mean(data), np.var(data)\n",
    "var_range = np.linspace(max(var-4, 0.1), var+4, 100)\n",
    "\n",
    "p = normal_pdf(mean, var_range[:, None], data)\n",
    "p = np.product(p, axis=1)\n"
   ]
  },
  {
   "cell_type": "code",
   "execution_count": 51,
   "metadata": {},
   "outputs": [
    {
     "data": {
      "image/png": "[encoded data removed]",
      "text/plain": [
       "<matplotlib.figure.Figure at 0x7fc1f0ded048>"
      ]
     },
     "metadata": {},
     "output_type": "display_data"
    }
   ],
   "source": [
    "import pylab as pl\n",
    "pl.plot(var_range, p)\n",
    "pl.axvline(var, 0, 1, c=\"r\")\n",
    "pl.show()"
   ]
  },
  {
   "cell_type": "code",
   "execution_count": 52,
   "metadata": {},
   "outputs": [
    {
     "data": {
      "text/plain": [
       "array([[6, 3, 7, 4, 6],\n",
       "       [9, 2, 6, 7, 4],\n",
       "       [3, 7, 7, 2, 5],\n",
       "       [4, 1, 7, 5, 1]])"
      ]
     },
     "execution_count": 52,
     "metadata": {},
     "output_type": "execute_result"
    }
   ],
   "source": [
    "np.random.seed(42)\n",
    "a = np.random.randint(0, 10, size=(4, 5))\n",
    "a"
   ]
  },
  {
   "cell_type": "code",
   "execution_count": 53,
   "metadata": {},
   "outputs": [
    {
     "data": {
      "text/plain": [
       "5"
      ]
     },
     "execution_count": 53,
     "metadata": {},
     "output_type": "execute_result"
    }
   ],
   "source": [
    "max_pos = np.argmax(a)\n",
    "max_pos"
   ]
  },
  {
   "cell_type": "code",
   "execution_count": 54,
   "metadata": {},
   "outputs": [
    {
     "data": {
      "text/plain": [
       "9"
      ]
     },
     "execution_count": 54,
     "metadata": {},
     "output_type": "execute_result"
    }
   ],
   "source": [
    "a.ravel()[max_pos]"
   ]
  },
  {
   "cell_type": "code",
   "execution_count": 55,
   "metadata": {
    "collapsed": true
   },
   "outputs": [],
   "source": [
    "idx = np.argmax(a, axis=1)"
   ]
  },
  {
   "cell_type": "code",
   "execution_count": 56,
   "metadata": {},
   "outputs": [
    {
     "data": {
      "text/plain": [
       "array([2, 0, 1, 2])"
      ]
     },
     "execution_count": 56,
     "metadata": {},
     "output_type": "execute_result"
    }
   ],
   "source": [
    "idx"
   ]
  },
  {
   "cell_type": "code",
   "execution_count": null,
   "metadata": {
    "collapsed": true
   },
   "outputs": [],
   "source": []
  }
 ],
 "metadata": {
  "kernelspec": {
   "display_name": "Python 3",
   "language": "python",
   "name": "python3"
  },
  "language_info": {
   "codemirror_mode": {
    "name": "ipython",
    "version": 3
   },
   "file_extension": ".py",
   "mimetype": "text/x-python",
   "name": "python",
   "nbconvert_exporter": "python",
   "pygments_lexer": "ipython3",
   "version": "3.6.1"
  }
 },
 "nbformat": 4,
 "nbformat_minor": 2
}
