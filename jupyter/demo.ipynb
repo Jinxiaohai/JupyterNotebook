{
 "cells": [
  {
   "cell_type": "markdown",
   "metadata": {},
   "source": [
    "#  jupyter notebook的快捷键\n",
    "\n",
    "### 命令模式(按ESC开启)\n",
    " > * Enter : 转入编辑模式  \n",
    "* Shift-Enter : 运行本单元,选中下一个单元  \n",
    "* Ctrl-Enter : 运行本单元  \n",
    "* Alt-Enter : 运行本单元,在其下插入新的单元  \n",
    "* y : 单元转入代码状态  \n",
    "* m : 单元转入markdown状态  \n",
    "* r : 单元转入raw状态  \n",
    "* 1 : 设定 1 级标题  \n",
    "* 2 : 设定 2 级标题  \n",
    "* 3 : 设定 3 级标题  \n",
    "* 4 : 设定 4 级标题  \n",
    "* 5 : 设定 5 级标题  \n",
    "* 6 : 设定 6 级标题  \n",
    "* k : 选中上方单元格  \n",
    "* j : 选中下方单元格  \n",
    "* Shift-K : 扩大选中上方单元格  \n",
    "* Shift-J : 扩大选中下方单元格  \n",
    "* a : 在上方插入单元格  \n",
    "* b : 在下方插入单元格  \n",
    "* x : 剪切选中的单元格  \n",
    "* c : 复制选中的单元格  \n",
    "* Shift-v : 粘贴到上方单元格  \n",
    "* v : 粘贴到下方单元格  \n",
    "* z : 恢复删除的最后一个单元格  \n",
    "* dd : 删除选中的单元格  \n",
    "* Shift-m : 合并选中的单元  \n",
    "* Ctrl-s : 文件存盘   \n",
    "* l : 行号的有与无  \n",
    "* h : 显示快捷键帮助  \n",
    "* Shift-Space : 向上滚动  \n",
    "* Space : 向下滚动  \n",
    " \n",
    "### 编辑模式(按Enter键开启)  \n",
    " > * tab : 代码补全或缩进\n",
    "* Shift-Tab : 提示  \n",
    "* Ctrl-[ : 缩进\n",
    "* Ctrl-] : 解除缩进\n",
    "* Ctrl-a : 全选\n",
    "* Ctrl-z : 撤销\n",
    "* Ctrl-y : 再做\n",
    "* Ctrl-home : 跳到单元开头\n",
    "* Ctrl-end : 跳到单元末尾\n",
    "* Esc : 进入命令模式\n",
    "* Shift-Enter : 运行本单元，选中下一单元\n",
    "* Ctrl-Enter : 运行本单元\n",
    "* Alt-Enter : 运行本单元，在下面插入一单元\n",
    "* Ctrl-Shift-- : 分割单元\n",
    "* Ctrl-Shift-Subtract : 分割单元\n",
    "* Ctrl-S : 文件存盘\n",
    "* Shift : 忽略\n",
    "* Up : 光标上移或转入上一单元\n",
    "* Down :光标下移或转入下一单元"
   ]
  }
 ],
 "metadata": {
  "kernelspec": {
   "display_name": "Python 3",
   "language": "python",
   "name": "python3"
  },
  "language_info": {
   "codemirror_mode": {
    "name": "ipython",
    "version": 3
   },
   "file_extension": ".py",
   "mimetype": "text/x-python",
   "name": "python",
   "nbconvert_exporter": "python",
   "pygments_lexer": "ipython3",
   "version": "3.6.1"
  }
 },
 "nbformat": 4,
 "nbformat_minor": 2
}
